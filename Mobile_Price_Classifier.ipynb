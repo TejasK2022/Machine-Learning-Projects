{
 "cells": [
  {
   "cell_type": "markdown",
   "id": "21433643",
   "metadata": {},
   "source": [
    "## Mobile Price Classifier"
   ]
  },
  {
   "cell_type": "code",
   "execution_count": 1,
   "id": "c20472d0",
   "metadata": {},
   "outputs": [],
   "source": [
    "#Firstly we build our own algorithm for Decision Tree Classification, because Random Forest depends on it.\n",
    "#There are multiple outputs so you have to count which  identical prediction has maximum value.\n",
    "# Later we build the Random Forest "
   ]
  },
  {
   "cell_type": "code",
   "execution_count": 2,
   "id": "f6595eb8",
   "metadata": {},
   "outputs": [],
   "source": [
    "import pandas as pd\n",
    "import numpy as np\n",
    "import matplotlib.pyplot as plt\n",
    "from warnings import filterwarnings\n",
    "filterwarnings('ignore')"
   ]
  },
  {
   "cell_type": "code",
   "execution_count": 3,
   "id": "88f21b55",
   "metadata": {},
   "outputs": [],
   "source": [
    "df=pd.read_csv('Mobile_Price.csv') # https://www.kaggle.com/datasets/gauravduttakiit/mobile-price-classification/data"
   ]
  },
  {
   "cell_type": "code",
   "execution_count": 4,
   "id": "35a330a2",
   "metadata": {},
   "outputs": [],
   "source": [
    "\n",
    "# pc Primary Camera mega pixels\n",
    "#fc Front Camera mega pixels\n",
    "#sc_h Screen Height of mobile in cm\n",
    "#sc_w Screen Width of mobile in cm\n",
    "#m_dep Mobile Depth in cm\n",
    "#px_width Pixel Resolution Width\n",
    "#px_height Pixel Resolution Height\n",
    "#ram Random Access Memory in Mega Bytes\n",
    "#int_memory Internal Memory in Giga Bytes\n",
    "#four_g Has 4G or not\n",
    "#three_g Has 3G or not\n",
    "#dual_sim Has dual sim support or not\n",
    "#battery_power Total energy a battery can store in one time measured in mAh\n",
    "#touch_screen Has touch screen or not\n",
    "#clock_speed speed at which microprocessor executes instructions\n",
    "#n_cores Number of cores of processor\n",
    "#wifi Has wifi or not\n",
    "#blue Has bluetooth or not\n",
    "#mobile_wt Weight of mobile phone\n",
    "#talk_time longest time that a single battery charge will last when you are\n",
    "#price_range This is the target variable with value of 0(low cost), 1(medium cost), 2(high cost) and 3(very high cost).\n"
   ]
  },
  {
   "cell_type": "code",
   "execution_count": 5,
   "id": "2abfc967",
   "metadata": {},
   "outputs": [],
   "source": [
    "df.head()"
   ]
  },
  {
   "cell_type": "code",
   "execution_count": 6,
   "id": "fa82ddfe",
   "metadata": {},
   "outputs": [],
   "source": [
    "df.shape"
   ]
  },
  {
   "cell_type": "code",
   "execution_count": 7,
   "id": "0f192c00",
   "metadata": {},
   "outputs": [],
   "source": [
    "len(df.columns)"
   ]
  },
  {
   "cell_type": "code",
   "execution_count": 8,
   "id": "0a5be65e",
   "metadata": {},
   "outputs": [],
   "source": [
    "X=df.iloc[:,0:20]\n",
    "y=df.iloc[:,-1]"
   ]
  },
  {
   "cell_type": "code",
   "execution_count": 9,
   "id": "fbd0192a",
   "metadata": {},
   "outputs": [],
   "source": [
    "# Taking samples from the dataset df\n",
    "def sample_rows(df,percent):\n",
    "    return df.sample(int(percent*df.shape[0]),replace=False) # here replace=True so that it  may take duplicate values."
   ]
  },
  {
   "cell_type": "code",
   "execution_count": 10,
   "id": "f7bea207",
   "metadata": {},
   "outputs": [],
   "source": [
    "df1=sample_rows(df,0.2)"
   ]
  },
  {
   "cell_type": "code",
   "execution_count": 11,
   "id": "0efd5c12",
   "metadata": {},
   "outputs": [],
   "source": [
    "df2=sample_rows(df,0.2)"
   ]
  },
  {
   "cell_type": "code",
   "execution_count": 12,
   "id": "88371923",
   "metadata": {},
   "outputs": [],
   "source": [
    "df3=sample_rows(df,0.2)"
   ]
  },
  {
   "cell_type": "code",
   "execution_count": 13,
   "id": "b4c66b77",
   "metadata": {},
   "outputs": [],
   "source": [
    "df4=sample_rows(df,0.2)"
   ]
  },
  {
   "cell_type": "code",
   "execution_count": 14,
   "id": "227a8e39",
   "metadata": {},
   "outputs": [],
   "source": [
    "df5=sample_rows(df,0.2)"
   ]
  },
  {
   "cell_type": "code",
   "execution_count": 15,
   "id": "57c9d8c3",
   "metadata": {},
   "outputs": [],
   "source": [
    "df4.shape"
   ]
  },
  {
   "cell_type": "code",
   "execution_count": 16,
   "id": "01f68da7",
   "metadata": {},
   "outputs": [],
   "source": [
    "from sklearn.tree import DecisionTreeClassifier"
   ]
  },
  {
   "cell_type": "code",
   "execution_count": 17,
   "id": "1f59e941",
   "metadata": {},
   "outputs": [],
   "source": [
    "dtc1=DecisionTreeClassifier()\n",
    "dtc2=DecisionTreeClassifier()\n",
    "dtc3=DecisionTreeClassifier()\n",
    "dtc4=DecisionTreeClassifier()\n",
    "dtc5=DecisionTreeClassifier()"
   ]
  },
  {
   "cell_type": "code",
   "execution_count": 18,
   "id": "aad081d2",
   "metadata": {},
   "outputs": [],
   "source": [
    "dtc1.fit(df1.iloc[:,0:20],df1.iloc[:,-1])\n",
    "dtc2.fit(df2.iloc[:,0:20],df2.iloc[:,-1])\n",
    "dtc3.fit(df3.iloc[:,0:20],df3.iloc[:,-1])\n",
    "dtc4.fit(df4.iloc[:,0:20],df3.iloc[:,-1])\n",
    "dtc5.fit(df5.iloc[:,0:20],df3.iloc[:,-1])"
   ]
  },
  {
   "cell_type": "code",
   "execution_count": 19,
   "id": "e427b927",
   "metadata": {},
   "outputs": [],
   "source": [
    "from sklearn.tree import plot_tree"
   ]
  },
  {
   "cell_type": "code",
   "execution_count": 20,
   "id": "d0109c77",
   "metadata": {},
   "outputs": [],
   "source": [
    "# plot_tree(dtc1) by using this you can plot the tree"
   ]
  },
  {
   "cell_type": "code",
   "execution_count": 21,
   "id": "b2b23f00",
   "metadata": {},
   "outputs": [],
   "source": [
    "dtc1.predict(np.array([1821,1,1.2,0,13,1,44,0.6,141,2,14,1208,1212,1411,8,2,15,1,1,0]).reshape(1,20))"
   ]
  },
  {
   "cell_type": "code",
   "execution_count": 22,
   "id": "b4941c02",
   "metadata": {},
   "outputs": [],
   "source": [
    "dtc2.predict(np.array([1821,1,1.2,0,13,1,44,0.6,141,2,14,1208,1212,1411,8,2,15,1,1,0]).reshape(1,20))"
   ]
  },
  {
   "cell_type": "code",
   "execution_count": 23,
   "id": "69bec111",
   "metadata": {},
   "outputs": [],
   "source": [
    "dtc3.predict(np.array([1821,1,1.2,0,13,1,44,0.6,141,2,14,1208,1212,1411,8,2,15,1,1,0]).reshape(1,20))"
   ]
  },
  {
   "cell_type": "code",
   "execution_count": 24,
   "id": "bd5e99af",
   "metadata": {},
   "outputs": [],
   "source": [
    "dtc4.predict(np.array([1821,1,1.2,0,13,1,44,0.6,141,2,14,1208,1212,1411,8,2,15,1,1,0]).reshape(1,20))"
   ]
  },
  {
   "cell_type": "code",
   "execution_count": 25,
   "id": "5b6f1343",
   "metadata": {},
   "outputs": [],
   "source": [
    "dtc5.predict(np.array([1821,1,1.2,0,13,1,44,0.6,141,2,14,1208,1212,1411,8,2,15,1,1,0]).reshape(1,20))"
   ]
  },
  {
   "cell_type": "code",
   "execution_count": 26,
   "id": "66b9a1c2",
   "metadata": {},
   "outputs": [],
   "source": [
    "# Below is the code written in the Sklearn Library"
   ]
  },
  {
   "cell_type": "code",
   "execution_count": 27,
   "id": "8cd99162",
   "metadata": {},
   "outputs": [],
   "source": [
    "# As we See below if more the number of clusters or estimators or the no. of base models then more the accuracy.\n",
    "# In below code if we set the number of estimator=5 then accuracy may be 66% and if number of estimator=100 the accuracy is \n",
    "# about 90%"
   ]
  },
  {
   "cell_type": "code",
   "execution_count": 28,
   "id": "1d3c9313",
   "metadata": {},
   "outputs": [],
   "source": [
    "from sklearn.ensemble import RandomForestClassifier\n",
    "from sklearn.model_selection import train_test_split"
   ]
  },
  {
   "cell_type": "code",
   "execution_count": 29,
   "id": "edf30f07",
   "metadata": {},
   "outputs": [],
   "source": [
    "X_train,X_test,y_train,y_test=train_test_split(X,y,test_size=0.2,random_state=22)"
   ]
  },
  {
   "cell_type": "code",
   "execution_count": 30,
   "id": "018c2c46",
   "metadata": {},
   "outputs": [],
   "source": [
    "model= RandomForestClassifier(n_estimators=100, random_state=42)"
   ]
  },
  {
   "cell_type": "code",
   "execution_count": 31,
   "id": "5b6446bb",
   "metadata": {},
   "outputs": [],
   "source": [
    "model.fit(X_train,y_train)"
   ]
  },
  {
   "cell_type": "code",
   "execution_count": 32,
   "id": "61f191e1",
   "metadata": {},
   "outputs": [],
   "source": [
    "y_pred=model.predict(X_test)"
   ]
  },
  {
   "cell_type": "code",
   "execution_count": 33,
   "id": "e009e644",
   "metadata": {},
   "outputs": [],
   "source": [
    "from sklearn.metrics import accuracy_score"
   ]
  },
  {
   "cell_type": "code",
   "execution_count": 34,
   "id": "6396827f",
   "metadata": {},
   "outputs": [],
   "source": [
    "accuracy_score(y_pred,y_test)"
   ]
  },
  {
   "cell_type": "code",
   "execution_count": 35,
   "id": "e5fdaa0b",
   "metadata": {},
   "outputs": [],
   "source": [
    "model.predict([[1821,1,1.2,0,13,1,44,0.6,141,2,14,1208,1212,1411,8,2,15,1,1,0]])"
   ]
  }
 ],
 "metadata": {
  "kernelspec": {
   "display_name": "Python 3 (ipykernel)",
   "language": "python",
   "name": "python3"
  },
  "language_info": {
   "codemirror_mode": {
    "name": "ipython",
    "version": 3
   },
   "file_extension": ".py",
   "mimetype": "text/x-python",
   "name": "python",
   "nbconvert_exporter": "python",
   "pygments_lexer": "ipython3",
   "version": "3.10.0"
  }
 },
 "nbformat": 4,
 "nbformat_minor": 5
}
